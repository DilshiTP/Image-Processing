{
 "cells": [
  {
   "cell_type": "code",
   "execution_count": 1,
   "metadata": {},
   "outputs": [
    {
     "data": {
      "text/plain": [
       "<matplotlib.collections.PathCollection at 0x1b3279d0>"
      ]
     },
     "execution_count": 1,
     "metadata": {},
     "output_type": "execute_result"
    },
    {
     "data": {
      "image/png": "[encoded data removed]",
      "text/plain": [
       "<Figure size 432x288 with 1 Axes>"
      ]
     },
     "metadata": {
      "needs_background": "light"
     },
     "output_type": "display_data"
    }
   ],
   "source": [
    "import numpy as np\n",
    "from scipy . optimize import minimize\n",
    "from scipy import linalg\n",
    "import matplotlib . pyplot as plt\n",
    "\n",
    "np.random.seed(45)\n",
    "N = 100\n",
    "half_n = N//2\n",
    "r = 10\n",
    "s = r/16\n",
    "t = np.random.uniform(0, 2*np.pi, half_n)\n",
    "\n",
    "n = s*np.random.randn(half_n)\n",
    "t_ = 1.96*1\n",
    "\n",
    "x , y = (r + n)*np.cos(t), (r + n)*np.sin(t)\n",
    "X_circ = np.hstack((x.reshape(half_n, 1), y.reshape(half_n, 1)))\n",
    "\n",
    "\n",
    "\n",
    "\n",
    "m, b = -1, 2\n",
    "x = np.linspace(-12, 12, half_n)\n",
    "y = m*x + b + s*np.random.randn(half_n)\n",
    "X_line = np.hstack((x.reshape(half_n, 1), y.reshape(half_n ,1)))\n",
    "X = np.vstack((X_circ, X_line))\n",
    "\n",
    "plt.scatter(X[..., 0], X[..., 1] )\n",
    "\n",
    "plt.show()"
   ]
  },
  {
   "cell_type": "code",
   "execution_count": 3,
   "metadata": {},
   "outputs": [
    {
     "name": "stdout",
     "output_type": "stream",
     "text": [
      "12.052880456056386\n"
     ]
    },
    {
     "data": {
      "image/png": "[encoded data removed]",
      "text/plain": [
       "<Figure size 432x288 with 1 Axes>"
      ]
     },
     "metadata": {
      "needs_background": "light"
     },
     "output_type": "display_data"
    }
   ],
   "source": [
    "def define_circle(p1, p2, p3):\n",
    "    \"\"\"\n",
    "    Returns the center and radius of the circle passing the given 3 points.\n",
    "    In case the 3 points form a line, returns (None, infinity).\n",
    "    \"\"\"\n",
    "    temp = p2[0] * p2[0] + p2[1] * p2[1]\n",
    "    bc = (p1[0] * p1[0] + p1[1] * p1[1] - temp) / 2\n",
    "    cd = (temp - p3[0] * p3[0] - p3[1] * p3[1]) / 2\n",
    "    det = (p1[0] - p2[0]) * (p2[1] - p3[1]) - (p2[0] - p3[0]) * (p1[1] - p2[1])\n",
    "\n",
    "    if abs(det) < 1.0e-6:\n",
    "        return (None, np.inf)\n",
    "\n",
    "    cx = (bc*(p2[1] - p3[1]) - cd*(p1[1] - p2[1])) / det\n",
    "    cy = ((p1[0] - p2[0]) * cd - (p2[0] - p3[0]) * bc) / det\n",
    "\n",
    "    radius = np.sqrt((cx - p1[0])**2 + (cy - p1[1])**2)\n",
    "    return ((cx, cy), radius)\n",
    "\n",
    "p = 0.8\n",
    "e = 0.5\n",
    "s = 3\n",
    "N = np.log10(1-p)/np.log10(1-(1-e)**s)\n",
    "print(N)\n",
    "max_k = 0\n",
    "\n",
    "for i in range(int(N)):\n",
    "    ind1 = np.random.randint(0, 2*half_n)\n",
    "    ind2 = np.random.randint(0, 2*half_n)\n",
    "    ind3 = np.random.randint(0, 2*half_n)\n",
    "    c1 = [X[..., 0][ind1], X[..., 1][ind1]]\n",
    "    c2 = [X[..., 0][ind2], X[..., 1][ind2]]\n",
    "    c3 = [X[..., 0][ind3], X[..., 1][ind3]]\n",
    "    \n",
    "    cen, rad = define_circle(c1, c2, c3)\n",
    "    k = 0\n",
    "\n",
    "    for i in range(half_n):\n",
    "        a, b = X[..., 0][i], X[..., 1][i]\n",
    "        if cen is None: continue\n",
    "        dis2 = np.sqrt((a-cen[0])**2 + (b - cen[1])**2)\n",
    "        r = rad\n",
    "        \n",
    "        if r-t_ < dis2 < r + t_:\n",
    "            k+=1\n",
    "    \n",
    "    if max_k < k:\n",
    "        max_k = k\n",
    "        f_c1, f_c2, f_c3 = c1, c2, c3\n",
    "        f_cen, f_rad = cen, rad\n",
    "    \n",
    "\n",
    "circle=plt.Circle(f_cen,f_rad, fill = False)\n",
    "fig, ax = plt.subplots()\n",
    "ax.add_patch(circle)\n",
    "ax.set_xlim([-15, 15])\n",
    "ax.set_ylim([-15, 15])\n",
    "ax.set_aspect('equal')\n",
    "plt.scatter(X[..., 0], X[..., 1] )\n",
    "plt.scatter(np.array((f_c1, f_c2, f_c3))[..., 0], np.array((f_c1, f_c2, f_c3))[..., 1], color = 'r')\n",
    "plt.show()"
   ]
  }
 ],
 "metadata": {
  "interpreter": {
   "hash": "1bec6fca72f3976c965d203ccccbd296c7c3f6241c5adcebc56df7b7c2b3af4b"
  },
  "kernelspec": {
   "display_name": "Python 3.7.4 32-bit",
   "language": "python",
   "name": "python3"
  },
  "language_info": {
   "codemirror_mode": {
    "name": "ipython",
    "version": 3
   },
   "file_extension": ".py",
   "mimetype": "text/x-python",
   "name": "python",
   "nbconvert_exporter": "python",
   "pygments_lexer": "ipython3",
   "version": "3.7.4"
  },
  "orig_nbformat": 4
 },
 "nbformat": 4,
 "nbformat_minor": 2
}
